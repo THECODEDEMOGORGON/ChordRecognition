{
  "nbformat": 4,
  "nbformat_minor": 0,
  "metadata": {
    "colab": {
      "name": "Аккорды.ipynb",
      "provenance": []
    },
    "kernelspec": {
      "name": "python3",
      "display_name": "Python 3"
    }
  },
  "cells": [
    {
      "cell_type": "code",
      "metadata": {
        "id": "raiVbwPbbR5V"
      },
      "source": [
        "import os\n",
        "import pathlib\n",
        "import pandas as pd\n",
        "import matplotlib.pyplot as plt\n",
        "import numpy as np\n",
        "import seaborn as sns\n",
        "import tensorflow as tf\n",
        "\n",
        "from tensorflow.keras.layers.experimental import preprocessing\n",
        "from tensorflow.keras import layers\n",
        "from tensorflow.keras import models\n",
        "from IPython import display\n",
        "import scipy.io.wavfile as wavfile\n",
        "import scipy\n",
        "import scipy.fftpack as fftpk\n",
        "import numpy as np\n",
        "from matplotlib import pyplot as plt\n",
        "import pandas as pd\n",
        "\n",
        "import sklearn\n",
        "import re\n",
        "# Set seed for experiment reproducibility\n",
        "seed = 42\n",
        "tf.random.set_seed(seed)\n",
        "np.random.seed(seed)"
      ],
      "execution_count": null,
      "outputs": []
    },
    {
      "cell_type": "code",
      "metadata": {
        "colab": {
          "base_uri": "https://localhost:8080/"
        },
        "id": "g3r_qiufpYUh",
        "outputId": "ca4a5640-1eda-450e-f649-35b9cf6ccb81"
      },
      "source": [
        "from google.colab import drive\n",
        "drive.mount('/content/drive')"
      ],
      "execution_count": null,
      "outputs": [
        {
          "output_type": "stream",
          "text": [
            "Drive already mounted at /content/drive; to attempt to forcibly remount, call drive.mount(\"/content/drive\", force_remount=True).\n"
          ],
          "name": "stdout"
        }
      ]
    },
    {
      "cell_type": "code",
      "metadata": {
        "colab": {
          "base_uri": "https://localhost:8080/"
        },
        "id": "wyfjkLjPhuzo",
        "outputId": "2aec6e46-9ea6-47cd-b2fb-ee4d0539a972"
      },
      "source": [
        "!unzip '/content/drive/MyDrive/Chords/samples.zip' "
      ],
      "execution_count": null,
      "outputs": [
        {
          "output_type": "stream",
          "text": [
            "Archive:  /content/drive/MyDrive/Chords/samples.zip\n",
            "replace samples/am0.wav? [y]es, [n]o, [A]ll, [N]one, [r]ename: A\n",
            "  inflating: samples/am0.wav         \n",
            "  inflating: samples/am1.wav         \n",
            "  inflating: samples/am2.wav         \n",
            "  inflating: samples/am3.wav         \n",
            "  inflating: samples/am4.wav         \n",
            "  inflating: samples/c0.wav          \n",
            "  inflating: samples/c1.wav          \n",
            "  inflating: samples/c2.wav          \n",
            "  inflating: samples/c3.wav          \n",
            "  inflating: samples/c4.wav          \n",
            "  inflating: samples/dm0.wav         \n",
            "  inflating: samples/dm1.wav         \n",
            "  inflating: samples/dm2.wav         \n",
            "  inflating: samples/dm3.wav         \n",
            "  inflating: samples/dm4.wav         \n",
            "  inflating: samples/e0.wav          \n",
            "  inflating: samples/e1.wav          \n",
            "  inflating: samples/e2.wav          \n",
            "  inflating: samples/e3.wav          \n",
            "  inflating: samples/e4.wav          \n",
            "  inflating: samples/g0.wav          \n",
            "  inflating: samples/g1.wav          \n",
            "  inflating: samples/g2.wav          \n",
            "  inflating: samples/g3.wav          \n",
            "  inflating: samples/g4.wav          \n"
          ],
          "name": "stdout"
        }
      ]
    },
    {
      "cell_type": "code",
      "metadata": {
        "colab": {
          "base_uri": "https://localhost:8080/"
        },
        "id": "Aq4eUdG2JGpC",
        "outputId": "a00d1ede-c3eb-4e97-cd52-4823a967fc78"
      },
      "source": [
        "!pip install librosa"
      ],
      "execution_count": null,
      "outputs": [
        {
          "output_type": "stream",
          "text": [
            "Requirement already satisfied: librosa in /usr/local/lib/python3.6/dist-packages (0.8.0)\n",
            "Requirement already satisfied: soundfile>=0.9.0 in /usr/local/lib/python3.6/dist-packages (from librosa) (0.10.3.post1)\n",
            "Requirement already satisfied: scipy>=1.0.0 in /usr/local/lib/python3.6/dist-packages (from librosa) (1.4.1)\n",
            "Requirement already satisfied: audioread>=2.0.0 in /usr/local/lib/python3.6/dist-packages (from librosa) (2.1.9)\n",
            "Requirement already satisfied: numpy>=1.15.0 in /usr/local/lib/python3.6/dist-packages (from librosa) (1.19.5)\n",
            "Requirement already satisfied: joblib>=0.14 in /usr/local/lib/python3.6/dist-packages (from librosa) (1.0.0)\n",
            "Requirement already satisfied: scikit-learn!=0.19.0,>=0.14.0 in /usr/local/lib/python3.6/dist-packages (from librosa) (0.22.2.post1)\n",
            "Requirement already satisfied: resampy>=0.2.2 in /usr/local/lib/python3.6/dist-packages (from librosa) (0.2.2)\n",
            "Requirement already satisfied: pooch>=1.0 in /usr/local/lib/python3.6/dist-packages (from librosa) (1.3.0)\n",
            "Requirement already satisfied: numba>=0.43.0 in /usr/local/lib/python3.6/dist-packages (from librosa) (0.51.2)\n",
            "Requirement already satisfied: decorator>=3.0.0 in /usr/local/lib/python3.6/dist-packages (from librosa) (4.4.2)\n",
            "Requirement already satisfied: cffi>=1.0 in /usr/local/lib/python3.6/dist-packages (from soundfile>=0.9.0->librosa) (1.14.4)\n",
            "Requirement already satisfied: six>=1.3 in /usr/local/lib/python3.6/dist-packages (from resampy>=0.2.2->librosa) (1.15.0)\n",
            "Requirement already satisfied: appdirs in /usr/local/lib/python3.6/dist-packages (from pooch>=1.0->librosa) (1.4.4)\n",
            "Requirement already satisfied: requests in /usr/local/lib/python3.6/dist-packages (from pooch>=1.0->librosa) (2.23.0)\n",
            "Requirement already satisfied: packaging in /usr/local/lib/python3.6/dist-packages (from pooch>=1.0->librosa) (20.9)\n",
            "Requirement already satisfied: llvmlite<0.35,>=0.34.0.dev0 in /usr/local/lib/python3.6/dist-packages (from numba>=0.43.0->librosa) (0.34.0)\n",
            "Requirement already satisfied: setuptools in /usr/local/lib/python3.6/dist-packages (from numba>=0.43.0->librosa) (53.0.0)\n",
            "Requirement already satisfied: pycparser in /usr/local/lib/python3.6/dist-packages (from cffi>=1.0->soundfile>=0.9.0->librosa) (2.20)\n",
            "Requirement already satisfied: idna<3,>=2.5 in /usr/local/lib/python3.6/dist-packages (from requests->pooch>=1.0->librosa) (2.10)\n",
            "Requirement already satisfied: urllib3!=1.25.0,!=1.25.1,<1.26,>=1.21.1 in /usr/local/lib/python3.6/dist-packages (from requests->pooch>=1.0->librosa) (1.24.3)\n",
            "Requirement already satisfied: certifi>=2017.4.17 in /usr/local/lib/python3.6/dist-packages (from requests->pooch>=1.0->librosa) (2020.12.5)\n",
            "Requirement already satisfied: chardet<4,>=3.0.2 in /usr/local/lib/python3.6/dist-packages (from requests->pooch>=1.0->librosa) (3.0.4)\n",
            "Requirement already satisfied: pyparsing>=2.0.2 in /usr/local/lib/python3.6/dist-packages (from packaging->pooch>=1.0->librosa) (2.4.7)\n"
          ],
          "name": "stdout"
        }
      ]
    },
    {
      "cell_type": "code",
      "metadata": {
        "colab": {
          "base_uri": "https://localhost:8080/"
        },
        "id": "PAjOYpWtJNqT",
        "outputId": "a66bc7e7-f0d3-45db-ccc8-c6d80dca035c"
      },
      "source": [
        "import librosa\n",
        "y, sr = librosa.load('/content/samples/am2.wav')\n",
        "C = librosa.feature.mfcc(y=y, sr=sr)\n",
        "C[0].mean()"
      ],
      "execution_count": null,
      "outputs": [
        {
          "output_type": "execute_result",
          "data": {
            "text/plain": [
              "-348.22144"
            ]
          },
          "metadata": {
            "tags": []
          },
          "execution_count": 47
        }
      ]
    },
    {
      "cell_type": "code",
      "metadata": {
        "colab": {
          "base_uri": "https://localhost:8080/"
        },
        "id": "sTihASn_OGW2",
        "outputId": "c79993a3-345d-462c-e5a8-0bbd9399b327"
      },
      "source": [
        "C.shape"
      ],
      "execution_count": null,
      "outputs": [
        {
          "output_type": "execute_result",
          "data": {
            "text/plain": [
              "(20, 162)"
            ]
          },
          "metadata": {
            "tags": []
          },
          "execution_count": 48
        }
      ]
    },
    {
      "cell_type": "code",
      "metadata": {
        "colab": {
          "base_uri": "https://localhost:8080/"
        },
        "id": "8yEjdcIHPX_d",
        "outputId": "9da6b384-d72f-45b0-d3ce-932e1181b1b9"
      },
      "source": [
        "np.average(C, axis = 1)"
      ],
      "execution_count": null,
      "outputs": [
        {
          "output_type": "execute_result",
          "data": {
            "text/plain": [
              "array([-348.22144  ,  160.14104  ,   55.223995 ,   28.682045 ,\n",
              "         19.212156 ,   17.213095 ,   12.231215 ,    7.459236 ,\n",
              "          0.6880066,   -8.070168 ,  -10.838573 ,   -9.788377 ,\n",
              "         -7.789629 ,   -3.9034462,   -2.9333587,   -5.49284  ,\n",
              "        -11.728105 ,  -11.742494 ,   -5.990808 ,   -2.6591134],\n",
              "      dtype=float32)"
            ]
          },
          "metadata": {
            "tags": []
          },
          "execution_count": 49
        }
      ]
    },
    {
      "cell_type": "code",
      "metadata": {
        "colab": {
          "base_uri": "https://localhost:8080/"
        },
        "id": "w2rGUU8WxIJj",
        "outputId": "07107da2-73d9-4c1f-fda7-a9a1009f7838"
      },
      "source": [
        "data_dir = pathlib.Path('samples')\n",
        "filenames = list(data_dir.glob('**/*.wav'))\n",
        "filenames = [str(f) for f in filenames]\n",
        "print(filenames)\n",
        "y = np.array([f[8:11] for f in filenames])\n",
        "y"
      ],
      "execution_count": null,
      "outputs": [
        {
          "output_type": "stream",
          "text": [
            "['samples/e0.wav', 'samples/dm2.wav', 'samples/c1.wav', 'samples/e4.wav', 'samples/am2.wav', 'samples/g3.wav', 'samples/dm0.wav', 'samples/dm1.wav', 'samples/e1.wav', 'samples/am1.wav', 'samples/dm3.wav', 'samples/c0.wav', 'samples/g2.wav', 'samples/c3.wav', 'samples/e2.wav', 'samples/g4.wav', 'samples/g1.wav', 'samples/c2.wav', 'samples/e3.wav', 'samples/am4.wav', 'samples/g0.wav', 'samples/am0.wav', 'samples/am3.wav', 'samples/dm4.wav', 'samples/c4.wav']\n"
          ],
          "name": "stdout"
        },
        {
          "output_type": "execute_result",
          "data": {
            "text/plain": [
              "array(['e0.', 'dm2', 'c1.', 'e4.', 'am2', 'g3.', 'dm0', 'dm1', 'e1.',\n",
              "       'am1', 'dm3', 'c0.', 'g2.', 'c3.', 'e2.', 'g4.', 'g1.', 'c2.',\n",
              "       'e3.', 'am4', 'g0.', 'am0', 'am3', 'dm4', 'c4.'], dtype='<U3')"
            ]
          },
          "metadata": {
            "tags": []
          },
          "execution_count": 50
        }
      ]
    },
    {
      "cell_type": "code",
      "metadata": {
        "colab": {
          "base_uri": "https://localhost:8080/"
        },
        "id": "7EYCR-NzUP-h",
        "outputId": "bfc526dc-9bb4-4a25-ff41-ec59a34de1d9"
      },
      "source": [
        "print(data_dir)"
      ],
      "execution_count": null,
      "outputs": [
        {
          "output_type": "stream",
          "text": [
            "samples\n"
          ],
          "name": "stdout"
        }
      ]
    },
    {
      "cell_type": "code",
      "metadata": {
        "colab": {
          "base_uri": "https://localhost:8080/"
        },
        "id": "S9ANH14_QfeZ",
        "outputId": "e2a94fd5-c03d-4956-9d7c-2b5c9a73abcf"
      },
      "source": [
        "y"
      ],
      "execution_count": null,
      "outputs": [
        {
          "output_type": "execute_result",
          "data": {
            "text/plain": [
              "array(['e0.', 'dm2', 'c1.', 'e4.', 'am2', 'g3.', 'dm0', 'dm1', 'e1.',\n",
              "       'am1', 'dm3', 'c0.', 'g2.', 'c3.', 'e2.', 'g4.', 'g1.', 'c2.',\n",
              "       'e3.', 'am4', 'g0.', 'am0', 'am3', 'dm4', 'c4.'], dtype='<U3')"
            ]
          },
          "metadata": {
            "tags": []
          },
          "execution_count": 52
        }
      ]
    },
    {
      "cell_type": "code",
      "metadata": {
        "colab": {
          "base_uri": "https://localhost:8080/"
        },
        "id": "B6ls50oNzUZt",
        "outputId": "9e1c0dfd-2d55-4c4c-fd30-6f7e1cea5303"
      },
      "source": [
        "df = pd.DataFrame(columns=list(\"0123456789ABCDEFGHIJ\"))\n",
        "\n",
        "for i in filenames:\n",
        "    signal, sr = librosa.load('/content/' + i)\n",
        "    C = librosa.feature.mfcc(y=signal, sr=sr)\n",
        "    coefs = np.average(C, axis = 1)\n",
        "    # fft = list(abs(scipy.fft(signal)))\n",
        "    # fft.sort()\n",
        "    df.loc[len(df)] = coefs\n",
        "\n",
        "\n",
        "\n",
        "\n",
        "from sklearn.preprocessing import MinMaxScaler\n",
        "scaler = MinMaxScaler()\n",
        "\n",
        "\n",
        "scaled_features = scaler.fit_transform(df)\n",
        "\n",
        "df = pd.DataFrame(scaled_features, index=df.index, columns=df.columns)\n",
        "print(df)\n",
        "df['chord'] = [re.sub(r'[0-9]', '', w).replace('.', '') for w in y]"
      ],
      "execution_count": null,
      "outputs": [
        {
          "output_type": "stream",
          "text": [
            "           0         1         2  ...         H         I         J\n",
            "0   0.599704  0.649918  0.452457  ...  0.604872  0.230275  0.262550\n",
            "1   0.535568  0.595734  1.000000  ...  0.513632  0.560369  0.590034\n",
            "2   0.169309  0.564090  0.704905  ...  0.183106  0.000000  0.443040\n",
            "3   0.595643  0.467628  0.494282  ...  0.443877  0.547678  0.297883\n",
            "4   0.485546  0.201145  0.444888  ...  0.114521  0.566028  0.296030\n",
            "5   0.000000  0.247189  0.778170  ...  0.705193  0.943549  0.098743\n",
            "6   0.619421  0.340780  0.421694  ...  0.454362  0.910369  1.000000\n",
            "7   0.892653  0.392818  0.442825  ...  0.513344  0.259632  0.623840\n",
            "8   0.748624  0.149563  0.789215  ...  0.494329  0.781695  0.624350\n",
            "9   0.464435  0.541552  0.741330  ...  0.000000  0.680691  0.556229\n",
            "10  0.435966  0.485811  0.827973  ...  0.470628  0.565610  0.588900\n",
            "11  0.193110  0.571113  0.701064  ...  0.174322  0.187798  0.453837\n",
            "12  0.223358  0.414210  0.460030  ...  0.726009  0.469351  0.000000\n",
            "13  0.285373  0.800576  0.497240  ...  0.084064  0.056536  0.369463\n",
            "14  0.962656  0.382616  0.000000  ...  0.596142  0.931781  0.205238\n",
            "15  0.477010  0.559530  0.649885  ...  0.789607  0.458798  0.048002\n",
            "16  0.880597  0.432796  0.321899  ...  1.000000  0.603024  0.057038\n",
            "17  0.022705  0.661207  0.480948  ...  0.120459  0.102381  0.168604\n",
            "18  0.283762  0.056543  0.625617  ...  0.619336  1.000000  0.669907\n",
            "19  0.506149  0.441299  0.719351  ...  0.050131  0.284856  0.511575\n",
            "20  0.288215  0.436256  0.232636  ...  0.552772  0.610124  0.218069\n",
            "21  1.000000  1.000000  0.525153  ...  0.310064  0.262049  0.286533\n",
            "22  0.350420  0.000000  0.593936  ...  0.188682  0.764591  0.659153\n",
            "23  0.801821  0.576431  0.596987  ...  0.406323  0.818904  0.870678\n",
            "24  0.538978  0.743016  0.717485  ...  0.307469  0.351055  0.381730\n",
            "\n",
            "[25 rows x 20 columns]\n"
          ],
          "name": "stdout"
        }
      ]
    },
    {
      "cell_type": "code",
      "metadata": {
        "id": "PwfXCOA9QYuH"
      },
      "source": [
        "train_mean = df.mean().values"
      ],
      "execution_count": null,
      "outputs": []
    },
    {
      "cell_type": "code",
      "metadata": {
        "colab": {
          "base_uri": "https://localhost:8080/"
        },
        "id": "H6yRCUWVVr3O",
        "outputId": "82d1a64c-ba0a-4511-b350-b04141341dcb"
      },
      "source": [
        "train_mean"
      ],
      "execution_count": null,
      "outputs": [
        {
          "output_type": "execute_result",
          "data": {
            "text/plain": [
              "array([0.49444085, 0.46847287, 0.56879884, 0.53753573, 0.45828167,\n",
              "       0.5357371 , 0.55867004, 0.50949186, 0.4309364 , 0.44809261,\n",
              "       0.48810646, 0.45533407, 0.31903142, 0.49106371, 0.46958759,\n",
              "       0.60542673, 0.4677121 , 0.41692969, 0.51788574, 0.41125706])"
            ]
          },
          "metadata": {
            "tags": []
          },
          "execution_count": 58
        }
      ]
    },
    {
      "cell_type": "code",
      "metadata": {
        "id": "xZZnbh7q0w4m"
      },
      "source": [
        "train = df.drop([4, 9, 14, 19, 24],axis='index')\n",
        "test =   df[df.index.isin([4, 9, 14, 19, 24])]"
      ],
      "execution_count": null,
      "outputs": []
    },
    {
      "cell_type": "code",
      "metadata": {
        "id": "5ZqYAuGK1_nC"
      },
      "source": [
        "X_train = df.drop(columns = 'chord')\n",
        "y_train = df['chord']\n"
      ],
      "execution_count": null,
      "outputs": []
    },
    {
      "cell_type": "code",
      "metadata": {
        "colab": {
          "base_uri": "https://localhost:8080/"
        },
        "id": "3tBSantE12k8",
        "outputId": "2493b550-5ee0-43a6-cfb9-a84c305ea7e7"
      },
      "source": [
        "from sklearn.neighbors import KNeighborsClassifier\n",
        "GOD = KNeighborsClassifier(n_neighbors=3)\n",
        "GOD.fit(X_train, y_train)\n"
      ],
      "execution_count": null,
      "outputs": [
        {
          "output_type": "execute_result",
          "data": {
            "text/plain": [
              "KNeighborsClassifier(algorithm='auto', leaf_size=30, metric='minkowski',\n",
              "                     metric_params=None, n_jobs=None, n_neighbors=3, p=2,\n",
              "                     weights='uniform')"
            ]
          },
          "metadata": {
            "tags": []
          },
          "execution_count": 18
        }
      ]
    },
    {
      "cell_type": "code",
      "metadata": {
        "id": "gBJQriVAhtnx"
      },
      "source": [
        "# !unzip '/content/drive/MyDrive/Chords/dataset-easy.zip' "
      ],
      "execution_count": null,
      "outputs": []
    },
    {
      "cell_type": "code",
      "metadata": {
        "id": "qeSbja_mGmv0"
      },
      "source": [
        "# test_dir = pathlib.Path('dataset-easy')\n",
        "# testnames = list(test_dir.glob('**/*.wav'))\n",
        "# testnames = [str(f) for f in testnames]\n",
        "# testnames = sorted(testnames, key=lambda x: int(x[-8:-4]))\n",
        "\n",
        "# for i in testnames[:921]:\n",
        "#     signal, sr = librosa.load('/content/' + i)\n",
        "#     C = librosa.feature.mfcc(y=signal, sr=sr)\n",
        "#     coefs = np.average(C, axis = 1)\n",
        "#     # fft = list(abs(scipy.fft(signal)))\n",
        "#     # fft.sort()\n",
        "#     scaled_coefs = scaler.transform(coefs.reshape(1, -1))\n",
        "    \n",
        "#     X_train.loc[len(X_train)] = scaled_coefs.tolist()[0]\n",
        "#     y_train.loc[len(y_train)]= GOD.predict(scaled_coefs)[0]\n",
        "    \n",
        "#     print(i[-8: -4], GOD.predict(scaled_coefs)[0])\n"
      ],
      "execution_count": null,
      "outputs": []
    },
    {
      "cell_type": "code",
      "metadata": {
        "colab": {
          "base_uri": "https://localhost:8080/",
          "height": 797
        },
        "id": "JXhPYOmWW09i",
        "outputId": "6ad3f772-a077-4f23-c10b-cd43d5887edc"
      },
      "source": [
        "X_train"
      ],
      "execution_count": null,
      "outputs": [
        {
          "output_type": "execute_result",
          "data": {
            "text/html": [
              "<div>\n",
              "<style scoped>\n",
              "    .dataframe tbody tr th:only-of-type {\n",
              "        vertical-align: middle;\n",
              "    }\n",
              "\n",
              "    .dataframe tbody tr th {\n",
              "        vertical-align: top;\n",
              "    }\n",
              "\n",
              "    .dataframe thead th {\n",
              "        text-align: right;\n",
              "    }\n",
              "</style>\n",
              "<table border=\"1\" class=\"dataframe\">\n",
              "  <thead>\n",
              "    <tr style=\"text-align: right;\">\n",
              "      <th></th>\n",
              "      <th>0</th>\n",
              "      <th>1</th>\n",
              "      <th>2</th>\n",
              "      <th>3</th>\n",
              "      <th>4</th>\n",
              "      <th>5</th>\n",
              "      <th>6</th>\n",
              "      <th>7</th>\n",
              "      <th>8</th>\n",
              "      <th>9</th>\n",
              "      <th>A</th>\n",
              "      <th>B</th>\n",
              "      <th>C</th>\n",
              "      <th>D</th>\n",
              "      <th>E</th>\n",
              "      <th>F</th>\n",
              "      <th>G</th>\n",
              "      <th>H</th>\n",
              "      <th>I</th>\n",
              "      <th>J</th>\n",
              "    </tr>\n",
              "  </thead>\n",
              "  <tbody>\n",
              "    <tr>\n",
              "      <th>0</th>\n",
              "      <td>0.599704</td>\n",
              "      <td>0.649918</td>\n",
              "      <td>0.452457</td>\n",
              "      <td>0.249618</td>\n",
              "      <td>0.129190</td>\n",
              "      <td>0.335486</td>\n",
              "      <td>0.067291</td>\n",
              "      <td>0.000000</td>\n",
              "      <td>0.408713</td>\n",
              "      <td>0.951795</td>\n",
              "      <td>0.944660</td>\n",
              "      <td>0.597390</td>\n",
              "      <td>0.065887</td>\n",
              "      <td>0.478850</td>\n",
              "      <td>0.380000</td>\n",
              "      <td>0.695834</td>\n",
              "      <td>0.611888</td>\n",
              "      <td>0.604872</td>\n",
              "      <td>0.230275</td>\n",
              "      <td>0.262550</td>\n",
              "    </tr>\n",
              "    <tr>\n",
              "      <th>1</th>\n",
              "      <td>0.535568</td>\n",
              "      <td>0.595734</td>\n",
              "      <td>1.000000</td>\n",
              "      <td>0.558741</td>\n",
              "      <td>0.399755</td>\n",
              "      <td>0.699514</td>\n",
              "      <td>0.656262</td>\n",
              "      <td>0.435193</td>\n",
              "      <td>0.292404</td>\n",
              "      <td>0.395427</td>\n",
              "      <td>0.525929</td>\n",
              "      <td>0.456095</td>\n",
              "      <td>0.111508</td>\n",
              "      <td>0.108720</td>\n",
              "      <td>0.146384</td>\n",
              "      <td>0.000000</td>\n",
              "      <td>0.297559</td>\n",
              "      <td>0.513632</td>\n",
              "      <td>0.560369</td>\n",
              "      <td>0.590034</td>\n",
              "    </tr>\n",
              "    <tr>\n",
              "      <th>2</th>\n",
              "      <td>0.169309</td>\n",
              "      <td>0.564090</td>\n",
              "      <td>0.704905</td>\n",
              "      <td>0.755912</td>\n",
              "      <td>0.414622</td>\n",
              "      <td>0.313728</td>\n",
              "      <td>0.498184</td>\n",
              "      <td>0.685533</td>\n",
              "      <td>0.201312</td>\n",
              "      <td>0.381958</td>\n",
              "      <td>0.479089</td>\n",
              "      <td>0.227769</td>\n",
              "      <td>0.747424</td>\n",
              "      <td>0.698039</td>\n",
              "      <td>0.323397</td>\n",
              "      <td>0.318206</td>\n",
              "      <td>0.284431</td>\n",
              "      <td>0.183106</td>\n",
              "      <td>0.000000</td>\n",
              "      <td>0.443040</td>\n",
              "    </tr>\n",
              "    <tr>\n",
              "      <th>3</th>\n",
              "      <td>0.595643</td>\n",
              "      <td>0.467628</td>\n",
              "      <td>0.494282</td>\n",
              "      <td>0.382141</td>\n",
              "      <td>0.158881</td>\n",
              "      <td>0.270289</td>\n",
              "      <td>0.132143</td>\n",
              "      <td>0.044898</td>\n",
              "      <td>0.240413</td>\n",
              "      <td>0.692621</td>\n",
              "      <td>0.955420</td>\n",
              "      <td>0.692293</td>\n",
              "      <td>0.036008</td>\n",
              "      <td>0.349485</td>\n",
              "      <td>0.608001</td>\n",
              "      <td>0.836988</td>\n",
              "      <td>0.506258</td>\n",
              "      <td>0.443877</td>\n",
              "      <td>0.547678</td>\n",
              "      <td>0.297883</td>\n",
              "    </tr>\n",
              "    <tr>\n",
              "      <th>4</th>\n",
              "      <td>0.485546</td>\n",
              "      <td>0.201145</td>\n",
              "      <td>0.444888</td>\n",
              "      <td>1.000000</td>\n",
              "      <td>0.673653</td>\n",
              "      <td>0.485832</td>\n",
              "      <td>0.821418</td>\n",
              "      <td>0.929673</td>\n",
              "      <td>0.672240</td>\n",
              "      <td>0.030527</td>\n",
              "      <td>0.241140</td>\n",
              "      <td>0.446926</td>\n",
              "      <td>0.234550</td>\n",
              "      <td>0.498238</td>\n",
              "      <td>0.496059</td>\n",
              "      <td>0.569858</td>\n",
              "      <td>0.178788</td>\n",
              "      <td>0.114521</td>\n",
              "      <td>0.566028</td>\n",
              "      <td>0.296030</td>\n",
              "    </tr>\n",
              "    <tr>\n",
              "      <th>5</th>\n",
              "      <td>0.000000</td>\n",
              "      <td>0.247189</td>\n",
              "      <td>0.778170</td>\n",
              "      <td>0.653132</td>\n",
              "      <td>0.638372</td>\n",
              "      <td>0.917184</td>\n",
              "      <td>1.000000</td>\n",
              "      <td>0.657234</td>\n",
              "      <td>0.281716</td>\n",
              "      <td>0.384406</td>\n",
              "      <td>0.395247</td>\n",
              "      <td>0.566463</td>\n",
              "      <td>0.195491</td>\n",
              "      <td>0.573931</td>\n",
              "      <td>0.750584</td>\n",
              "      <td>0.936968</td>\n",
              "      <td>0.776437</td>\n",
              "      <td>0.705193</td>\n",
              "      <td>0.943549</td>\n",
              "      <td>0.098743</td>\n",
              "    </tr>\n",
              "    <tr>\n",
              "      <th>6</th>\n",
              "      <td>0.619421</td>\n",
              "      <td>0.340780</td>\n",
              "      <td>0.421694</td>\n",
              "      <td>0.249081</td>\n",
              "      <td>0.341989</td>\n",
              "      <td>0.310996</td>\n",
              "      <td>0.226229</td>\n",
              "      <td>0.499159</td>\n",
              "      <td>0.728933</td>\n",
              "      <td>0.407141</td>\n",
              "      <td>0.462094</td>\n",
              "      <td>0.454972</td>\n",
              "      <td>0.000000</td>\n",
              "      <td>0.000000</td>\n",
              "      <td>0.000000</td>\n",
              "      <td>0.077146</td>\n",
              "      <td>0.320822</td>\n",
              "      <td>0.454362</td>\n",
              "      <td>0.910369</td>\n",
              "      <td>1.000000</td>\n",
              "    </tr>\n",
              "    <tr>\n",
              "      <th>7</th>\n",
              "      <td>0.892653</td>\n",
              "      <td>0.392818</td>\n",
              "      <td>0.442825</td>\n",
              "      <td>0.578089</td>\n",
              "      <td>0.729912</td>\n",
              "      <td>1.000000</td>\n",
              "      <td>0.687662</td>\n",
              "      <td>0.955114</td>\n",
              "      <td>0.592373</td>\n",
              "      <td>0.598823</td>\n",
              "      <td>0.023304</td>\n",
              "      <td>0.270833</td>\n",
              "      <td>0.400683</td>\n",
              "      <td>0.161711</td>\n",
              "      <td>0.206510</td>\n",
              "      <td>0.214330</td>\n",
              "      <td>0.492932</td>\n",
              "      <td>0.513344</td>\n",
              "      <td>0.259632</td>\n",
              "      <td>0.623840</td>\n",
              "    </tr>\n",
              "    <tr>\n",
              "      <th>8</th>\n",
              "      <td>0.748624</td>\n",
              "      <td>0.149563</td>\n",
              "      <td>0.789215</td>\n",
              "      <td>0.573246</td>\n",
              "      <td>0.070638</td>\n",
              "      <td>0.000000</td>\n",
              "      <td>0.158583</td>\n",
              "      <td>0.073361</td>\n",
              "      <td>0.033998</td>\n",
              "      <td>0.682278</td>\n",
              "      <td>1.000000</td>\n",
              "      <td>1.000000</td>\n",
              "      <td>0.462503</td>\n",
              "      <td>0.340078</td>\n",
              "      <td>0.593120</td>\n",
              "      <td>1.000000</td>\n",
              "      <td>0.588603</td>\n",
              "      <td>0.494329</td>\n",
              "      <td>0.781695</td>\n",
              "      <td>0.624350</td>\n",
              "    </tr>\n",
              "    <tr>\n",
              "      <th>9</th>\n",
              "      <td>0.464435</td>\n",
              "      <td>0.541552</td>\n",
              "      <td>0.741330</td>\n",
              "      <td>0.632571</td>\n",
              "      <td>0.669640</td>\n",
              "      <td>0.730119</td>\n",
              "      <td>0.737296</td>\n",
              "      <td>0.703067</td>\n",
              "      <td>0.667166</td>\n",
              "      <td>0.341795</td>\n",
              "      <td>0.000000</td>\n",
              "      <td>0.000000</td>\n",
              "      <td>0.277238</td>\n",
              "      <td>0.633751</td>\n",
              "      <td>0.643653</td>\n",
              "      <td>0.365642</td>\n",
              "      <td>0.000000</td>\n",
              "      <td>0.000000</td>\n",
              "      <td>0.680691</td>\n",
              "      <td>0.556229</td>\n",
              "    </tr>\n",
              "    <tr>\n",
              "      <th>10</th>\n",
              "      <td>0.435966</td>\n",
              "      <td>0.485811</td>\n",
              "      <td>0.827973</td>\n",
              "      <td>0.604639</td>\n",
              "      <td>0.546423</td>\n",
              "      <td>0.739864</td>\n",
              "      <td>0.786147</td>\n",
              "      <td>0.594965</td>\n",
              "      <td>0.350495</td>\n",
              "      <td>0.348366</td>\n",
              "      <td>0.541767</td>\n",
              "      <td>0.465028</td>\n",
              "      <td>0.136283</td>\n",
              "      <td>0.195083</td>\n",
              "      <td>0.135754</td>\n",
              "      <td>0.162397</td>\n",
              "      <td>0.407168</td>\n",
              "      <td>0.470628</td>\n",
              "      <td>0.565610</td>\n",
              "      <td>0.588900</td>\n",
              "    </tr>\n",
              "    <tr>\n",
              "      <th>11</th>\n",
              "      <td>0.193110</td>\n",
              "      <td>0.571113</td>\n",
              "      <td>0.701064</td>\n",
              "      <td>0.730396</td>\n",
              "      <td>0.270604</td>\n",
              "      <td>0.272643</td>\n",
              "      <td>0.346725</td>\n",
              "      <td>0.356699</td>\n",
              "      <td>0.000000</td>\n",
              "      <td>0.000000</td>\n",
              "      <td>0.413213</td>\n",
              "      <td>0.671474</td>\n",
              "      <td>1.000000</td>\n",
              "      <td>0.863514</td>\n",
              "      <td>0.478606</td>\n",
              "      <td>0.631976</td>\n",
              "      <td>0.478687</td>\n",
              "      <td>0.174322</td>\n",
              "      <td>0.187798</td>\n",
              "      <td>0.453837</td>\n",
              "    </tr>\n",
              "    <tr>\n",
              "      <th>12</th>\n",
              "      <td>0.223358</td>\n",
              "      <td>0.414210</td>\n",
              "      <td>0.460030</td>\n",
              "      <td>0.433462</td>\n",
              "      <td>0.652798</td>\n",
              "      <td>0.950029</td>\n",
              "      <td>0.831068</td>\n",
              "      <td>0.570006</td>\n",
              "      <td>1.000000</td>\n",
              "      <td>1.000000</td>\n",
              "      <td>0.519948</td>\n",
              "      <td>0.628796</td>\n",
              "      <td>0.301003</td>\n",
              "      <td>0.437143</td>\n",
              "      <td>0.460980</td>\n",
              "      <td>0.930387</td>\n",
              "      <td>0.760615</td>\n",
              "      <td>0.726009</td>\n",
              "      <td>0.469351</td>\n",
              "      <td>0.000000</td>\n",
              "    </tr>\n",
              "    <tr>\n",
              "      <th>13</th>\n",
              "      <td>0.285373</td>\n",
              "      <td>0.800576</td>\n",
              "      <td>0.497240</td>\n",
              "      <td>0.379559</td>\n",
              "      <td>0.373130</td>\n",
              "      <td>0.525572</td>\n",
              "      <td>0.620622</td>\n",
              "      <td>0.751404</td>\n",
              "      <td>0.500930</td>\n",
              "      <td>0.275384</td>\n",
              "      <td>0.456494</td>\n",
              "      <td>0.295646</td>\n",
              "      <td>0.134760</td>\n",
              "      <td>0.188012</td>\n",
              "      <td>0.332687</td>\n",
              "      <td>0.846780</td>\n",
              "      <td>0.371050</td>\n",
              "      <td>0.084064</td>\n",
              "      <td>0.056536</td>\n",
              "      <td>0.369463</td>\n",
              "    </tr>\n",
              "    <tr>\n",
              "      <th>14</th>\n",
              "      <td>0.962656</td>\n",
              "      <td>0.382616</td>\n",
              "      <td>0.000000</td>\n",
              "      <td>0.913520</td>\n",
              "      <td>1.000000</td>\n",
              "      <td>0.129833</td>\n",
              "      <td>0.000000</td>\n",
              "      <td>0.246901</td>\n",
              "      <td>0.159743</td>\n",
              "      <td>0.471745</td>\n",
              "      <td>0.696052</td>\n",
              "      <td>0.706008</td>\n",
              "      <td>0.480503</td>\n",
              "      <td>0.336061</td>\n",
              "      <td>0.355087</td>\n",
              "      <td>0.855878</td>\n",
              "      <td>0.546216</td>\n",
              "      <td>0.596142</td>\n",
              "      <td>0.931781</td>\n",
              "      <td>0.205238</td>\n",
              "    </tr>\n",
              "    <tr>\n",
              "      <th>15</th>\n",
              "      <td>0.477010</td>\n",
              "      <td>0.559530</td>\n",
              "      <td>0.649885</td>\n",
              "      <td>0.605809</td>\n",
              "      <td>0.759440</td>\n",
              "      <td>0.878595</td>\n",
              "      <td>0.734360</td>\n",
              "      <td>0.289431</td>\n",
              "      <td>0.434520</td>\n",
              "      <td>0.746627</td>\n",
              "      <td>0.322152</td>\n",
              "      <td>0.097754</td>\n",
              "      <td>0.135586</td>\n",
              "      <td>0.599579</td>\n",
              "      <td>0.451499</td>\n",
              "      <td>0.859922</td>\n",
              "      <td>1.000000</td>\n",
              "      <td>0.789607</td>\n",
              "      <td>0.458798</td>\n",
              "      <td>0.048002</td>\n",
              "    </tr>\n",
              "    <tr>\n",
              "      <th>16</th>\n",
              "      <td>0.880597</td>\n",
              "      <td>0.432796</td>\n",
              "      <td>0.321899</td>\n",
              "      <td>0.555974</td>\n",
              "      <td>0.655582</td>\n",
              "      <td>0.737349</td>\n",
              "      <td>0.698227</td>\n",
              "      <td>0.071422</td>\n",
              "      <td>0.395256</td>\n",
              "      <td>0.620002</td>\n",
              "      <td>0.383527</td>\n",
              "      <td>0.578369</td>\n",
              "      <td>0.706803</td>\n",
              "      <td>0.888419</td>\n",
              "      <td>0.609318</td>\n",
              "      <td>0.684269</td>\n",
              "      <td>0.813999</td>\n",
              "      <td>1.000000</td>\n",
              "      <td>0.603024</td>\n",
              "      <td>0.057038</td>\n",
              "    </tr>\n",
              "    <tr>\n",
              "      <th>17</th>\n",
              "      <td>0.022705</td>\n",
              "      <td>0.661207</td>\n",
              "      <td>0.480948</td>\n",
              "      <td>0.479035</td>\n",
              "      <td>0.274954</td>\n",
              "      <td>0.381894</td>\n",
              "      <td>0.828311</td>\n",
              "      <td>0.662190</td>\n",
              "      <td>0.398396</td>\n",
              "      <td>0.260382</td>\n",
              "      <td>0.335201</td>\n",
              "      <td>0.291226</td>\n",
              "      <td>0.219440</td>\n",
              "      <td>0.658698</td>\n",
              "      <td>0.598557</td>\n",
              "      <td>0.466745</td>\n",
              "      <td>0.239811</td>\n",
              "      <td>0.120459</td>\n",
              "      <td>0.102381</td>\n",
              "      <td>0.168604</td>\n",
              "    </tr>\n",
              "    <tr>\n",
              "      <th>18</th>\n",
              "      <td>0.283762</td>\n",
              "      <td>0.056543</td>\n",
              "      <td>0.625617</td>\n",
              "      <td>0.665086</td>\n",
              "      <td>0.000000</td>\n",
              "      <td>0.137552</td>\n",
              "      <td>0.215891</td>\n",
              "      <td>0.198317</td>\n",
              "      <td>0.127717</td>\n",
              "      <td>0.641027</td>\n",
              "      <td>0.868360</td>\n",
              "      <td>0.310613</td>\n",
              "      <td>0.181658</td>\n",
              "      <td>0.384986</td>\n",
              "      <td>0.373934</td>\n",
              "      <td>0.946208</td>\n",
              "      <td>0.583444</td>\n",
              "      <td>0.619336</td>\n",
              "      <td>1.000000</td>\n",
              "      <td>0.669907</td>\n",
              "    </tr>\n",
              "    <tr>\n",
              "      <th>19</th>\n",
              "      <td>0.506149</td>\n",
              "      <td>0.441299</td>\n",
              "      <td>0.719351</td>\n",
              "      <td>0.456021</td>\n",
              "      <td>0.437047</td>\n",
              "      <td>0.681739</td>\n",
              "      <td>0.816230</td>\n",
              "      <td>0.705822</td>\n",
              "      <td>0.698202</td>\n",
              "      <td>0.342253</td>\n",
              "      <td>0.244612</td>\n",
              "      <td>0.282516</td>\n",
              "      <td>0.526138</td>\n",
              "      <td>1.000000</td>\n",
              "      <td>0.902761</td>\n",
              "      <td>0.523088</td>\n",
              "      <td>0.178530</td>\n",
              "      <td>0.050131</td>\n",
              "      <td>0.284856</td>\n",
              "      <td>0.511575</td>\n",
              "    </tr>\n",
              "    <tr>\n",
              "      <th>20</th>\n",
              "      <td>0.288215</td>\n",
              "      <td>0.436256</td>\n",
              "      <td>0.232636</td>\n",
              "      <td>0.253015</td>\n",
              "      <td>0.550899</td>\n",
              "      <td>0.750701</td>\n",
              "      <td>0.821758</td>\n",
              "      <td>0.839386</td>\n",
              "      <td>0.527432</td>\n",
              "      <td>0.277054</td>\n",
              "      <td>0.433608</td>\n",
              "      <td>0.604263</td>\n",
              "      <td>0.270720</td>\n",
              "      <td>0.388538</td>\n",
              "      <td>0.525329</td>\n",
              "      <td>0.880257</td>\n",
              "      <td>0.784031</td>\n",
              "      <td>0.552772</td>\n",
              "      <td>0.610124</td>\n",
              "      <td>0.218069</td>\n",
              "    </tr>\n",
              "    <tr>\n",
              "      <th>21</th>\n",
              "      <td>1.000000</td>\n",
              "      <td>1.000000</td>\n",
              "      <td>0.525153</td>\n",
              "      <td>0.000000</td>\n",
              "      <td>0.299085</td>\n",
              "      <td>0.799956</td>\n",
              "      <td>0.662889</td>\n",
              "      <td>0.590649</td>\n",
              "      <td>0.600052</td>\n",
              "      <td>0.284296</td>\n",
              "      <td>0.415440</td>\n",
              "      <td>0.389388</td>\n",
              "      <td>0.423326</td>\n",
              "      <td>0.863487</td>\n",
              "      <td>1.000000</td>\n",
              "      <td>0.818634</td>\n",
              "      <td>0.365107</td>\n",
              "      <td>0.310064</td>\n",
              "      <td>0.262049</td>\n",
              "      <td>0.286533</td>\n",
              "    </tr>\n",
              "    <tr>\n",
              "      <th>22</th>\n",
              "      <td>0.350420</td>\n",
              "      <td>0.000000</td>\n",
              "      <td>0.593936</td>\n",
              "      <td>0.898623</td>\n",
              "      <td>0.711843</td>\n",
              "      <td>0.510935</td>\n",
              "      <td>0.753864</td>\n",
              "      <td>1.000000</td>\n",
              "      <td>0.847834</td>\n",
              "      <td>0.487160</td>\n",
              "      <td>0.489101</td>\n",
              "      <td>0.415924</td>\n",
              "      <td>0.494369</td>\n",
              "      <td>0.876224</td>\n",
              "      <td>0.722514</td>\n",
              "      <td>0.474989</td>\n",
              "      <td>0.282829</td>\n",
              "      <td>0.188682</td>\n",
              "      <td>0.764591</td>\n",
              "      <td>0.659153</td>\n",
              "    </tr>\n",
              "    <tr>\n",
              "      <th>23</th>\n",
              "      <td>0.801821</td>\n",
              "      <td>0.576431</td>\n",
              "      <td>0.596987</td>\n",
              "      <td>0.470102</td>\n",
              "      <td>0.486661</td>\n",
              "      <td>0.347722</td>\n",
              "      <td>0.329185</td>\n",
              "      <td>0.467714</td>\n",
              "      <td>0.546731</td>\n",
              "      <td>0.416997</td>\n",
              "      <td>0.559747</td>\n",
              "      <td>0.607946</td>\n",
              "      <td>0.158467</td>\n",
              "      <td>0.126734</td>\n",
              "      <td>0.057654</td>\n",
              "      <td>0.112754</td>\n",
              "      <td>0.267585</td>\n",
              "      <td>0.406323</td>\n",
              "      <td>0.818904</td>\n",
              "      <td>0.870678</td>\n",
              "    </tr>\n",
              "    <tr>\n",
              "      <th>24</th>\n",
              "      <td>0.538978</td>\n",
              "      <td>0.743016</td>\n",
              "      <td>0.717485</td>\n",
              "      <td>0.360623</td>\n",
              "      <td>0.211923</td>\n",
              "      <td>0.485897</td>\n",
              "      <td>0.536407</td>\n",
              "      <td>0.409158</td>\n",
              "      <td>0.066836</td>\n",
              "      <td>0.164252</td>\n",
              "      <td>0.496553</td>\n",
              "      <td>0.325658</td>\n",
              "      <td>0.275437</td>\n",
              "      <td>0.627314</td>\n",
              "      <td>0.587302</td>\n",
              "      <td>0.926413</td>\n",
              "      <td>0.556009</td>\n",
              "      <td>0.307469</td>\n",
              "      <td>0.351055</td>\n",
              "      <td>0.381730</td>\n",
              "    </tr>\n",
              "  </tbody>\n",
              "</table>\n",
              "</div>"
            ],
            "text/plain": [
              "           0         1         2  ...         H         I         J\n",
              "0   0.599704  0.649918  0.452457  ...  0.604872  0.230275  0.262550\n",
              "1   0.535568  0.595734  1.000000  ...  0.513632  0.560369  0.590034\n",
              "2   0.169309  0.564090  0.704905  ...  0.183106  0.000000  0.443040\n",
              "3   0.595643  0.467628  0.494282  ...  0.443877  0.547678  0.297883\n",
              "4   0.485546  0.201145  0.444888  ...  0.114521  0.566028  0.296030\n",
              "5   0.000000  0.247189  0.778170  ...  0.705193  0.943549  0.098743\n",
              "6   0.619421  0.340780  0.421694  ...  0.454362  0.910369  1.000000\n",
              "7   0.892653  0.392818  0.442825  ...  0.513344  0.259632  0.623840\n",
              "8   0.748624  0.149563  0.789215  ...  0.494329  0.781695  0.624350\n",
              "9   0.464435  0.541552  0.741330  ...  0.000000  0.680691  0.556229\n",
              "10  0.435966  0.485811  0.827973  ...  0.470628  0.565610  0.588900\n",
              "11  0.193110  0.571113  0.701064  ...  0.174322  0.187798  0.453837\n",
              "12  0.223358  0.414210  0.460030  ...  0.726009  0.469351  0.000000\n",
              "13  0.285373  0.800576  0.497240  ...  0.084064  0.056536  0.369463\n",
              "14  0.962656  0.382616  0.000000  ...  0.596142  0.931781  0.205238\n",
              "15  0.477010  0.559530  0.649885  ...  0.789607  0.458798  0.048002\n",
              "16  0.880597  0.432796  0.321899  ...  1.000000  0.603024  0.057038\n",
              "17  0.022705  0.661207  0.480948  ...  0.120459  0.102381  0.168604\n",
              "18  0.283762  0.056543  0.625617  ...  0.619336  1.000000  0.669907\n",
              "19  0.506149  0.441299  0.719351  ...  0.050131  0.284856  0.511575\n",
              "20  0.288215  0.436256  0.232636  ...  0.552772  0.610124  0.218069\n",
              "21  1.000000  1.000000  0.525153  ...  0.310064  0.262049  0.286533\n",
              "22  0.350420  0.000000  0.593936  ...  0.188682  0.764591  0.659153\n",
              "23  0.801821  0.576431  0.596987  ...  0.406323  0.818904  0.870678\n",
              "24  0.538978  0.743016  0.717485  ...  0.307469  0.351055  0.381730\n",
              "\n",
              "[25 rows x 20 columns]"
            ]
          },
          "metadata": {
            "tags": []
          },
          "execution_count": 21
        }
      ]
    },
    {
      "cell_type": "code",
      "metadata": {
        "colab": {
          "base_uri": "https://localhost:8080/"
        },
        "id": "1XWwshsy4wLo",
        "outputId": "4f41285b-486e-4c14-b72f-cb5dd62992c3"
      },
      "source": [
        "y_train"
      ],
      "execution_count": null,
      "outputs": [
        {
          "output_type": "execute_result",
          "data": {
            "text/plain": [
              "0      e\n",
              "1     dm\n",
              "2      c\n",
              "3      e\n",
              "4     am\n",
              "5      g\n",
              "6     dm\n",
              "7     dm\n",
              "8      e\n",
              "9     am\n",
              "10    dm\n",
              "11     c\n",
              "12     g\n",
              "13     c\n",
              "14     e\n",
              "15     g\n",
              "16     g\n",
              "17     c\n",
              "18     e\n",
              "19    am\n",
              "20     g\n",
              "21    am\n",
              "22    am\n",
              "23    dm\n",
              "24     c\n",
              "Name: chord, dtype: object"
            ]
          },
          "metadata": {
            "tags": []
          },
          "execution_count": 22
        }
      ]
    },
    {
      "cell_type": "code",
      "metadata": {
        "colab": {
          "base_uri": "https://localhost:8080/"
        },
        "id": "7rX3VoKT5ulJ",
        "outputId": "2c57a3d8-ef2f-4346-a972-36f695d1fd65"
      },
      "source": [
        "# GOD = KNeighborsClassifier(n_neighbors=3)\n",
        "# GOD.fit(X_train, y_train)\n"
      ],
      "execution_count": null,
      "outputs": [
        {
          "output_type": "execute_result",
          "data": {
            "text/plain": [
              "KNeighborsClassifier(algorithm='auto', leaf_size=30, metric='minkowski',\n",
              "                     metric_params=None, n_jobs=None, n_neighbors=3, p=2,\n",
              "                     weights='uniform')"
            ]
          },
          "metadata": {
            "tags": []
          },
          "execution_count": 21
        }
      ]
    },
    {
      "cell_type": "code",
      "metadata": {
        "id": "ArPoaRaHq9Jy"
      },
      "source": [
        "!unzip '/content/drive/MyDrive/Chords/dataset-hard.zip' "
      ],
      "execution_count": null,
      "outputs": []
    },
    {
      "cell_type": "code",
      "metadata": {
        "id": "p5iRqzITVda_"
      },
      "source": [
        "from librosa.core import istft\n",
        "\n",
        "\n",
        "test_dir = pathlib.Path('dataset-hard')\n",
        "testnames = list(test_dir.glob('**/*.wav'))\n",
        "testnames = [str(f) for f in testnames]\n",
        "testnames = sorted(testnames, key=lambda x: int(x[-8:-4]))\n",
        "\n",
        "test_mean = np.zeros(train_mean.shape)\n",
        "for i in testnames[:1000]:\n",
        "    signal, sr = librosa.load('/content/' + i)\n",
        "    \n",
        "    C = librosa.feature.mfcc(y=signal, sr=sr)\n",
        "    coefs = np.average(C, axis = 1)\n",
        "    scaled_coefs = scaler.transform(coefs.reshape(1, -1))\n",
        "    test_mean = test_mean + scaled_coefs / 1000"
      ],
      "execution_count": null,
      "outputs": []
    },
    {
      "cell_type": "code",
      "metadata": {
        "colab": {
          "base_uri": "https://localhost:8080/"
        },
        "id": "wOKmxNBdXHfk",
        "outputId": "715659ea-059b-40c8-b0f3-264d13953ee3"
      },
      "source": [
        "test_mean \n"
      ],
      "execution_count": null,
      "outputs": [
        {
          "output_type": "execute_result",
          "data": {
            "text/plain": [
              "array([[ 1.40602004,  0.16231493, -0.02223775,  0.85247494,  0.0569685 ,\n",
              "        -0.04192612,  0.10659984,  0.25262091,  0.35855151,  0.46567939,\n",
              "         0.61297562,  0.68129814, -0.16938381,  0.14044128,  0.20773975,\n",
              "         0.38641745,  0.57405188,  0.68220731,  0.76075373,  0.34768621]])"
            ]
          },
          "metadata": {
            "tags": []
          },
          "execution_count": 80
        }
      ]
    },
    {
      "cell_type": "code",
      "metadata": {
        "colab": {
          "base_uri": "https://localhost:8080/"
        },
        "id": "r5Uopmh3Ydc2",
        "outputId": "4ae2709c-fdba-477d-ce93-7a8e49c09ead"
      },
      "source": [
        "train_mean"
      ],
      "execution_count": null,
      "outputs": [
        {
          "output_type": "execute_result",
          "data": {
            "text/plain": [
              "array([0.49444085, 0.46847287, 0.56879884, 0.53753573, 0.45828167,\n",
              "       0.5357371 , 0.55867004, 0.50949186, 0.4309364 , 0.44809261,\n",
              "       0.48810646, 0.45533407, 0.31903142, 0.49106371, 0.46958759,\n",
              "       0.60542673, 0.4677121 , 0.41692969, 0.51788574, 0.41125706])"
            ]
          },
          "metadata": {
            "tags": []
          },
          "execution_count": 81
        }
      ]
    },
    {
      "cell_type": "code",
      "metadata": {
        "id": "w_ls1ODiYm1r"
      },
      "source": [
        "noise = test_mean - train_mean"
      ],
      "execution_count": null,
      "outputs": []
    },
    {
      "cell_type": "code",
      "metadata": {
        "colab": {
          "base_uri": "https://localhost:8080/"
        },
        "id": "GaC4d3H0YqL_",
        "outputId": "25aed95d-d18a-43e7-83f6-6ee3409dce5e"
      },
      "source": [
        "noise"
      ],
      "execution_count": null,
      "outputs": [
        {
          "output_type": "execute_result",
          "data": {
            "text/plain": [
              "array([[ 0.91157919, -0.30615794, -0.59103659,  0.31493921, -0.40131317,\n",
              "        -0.57766322, -0.4520702 , -0.25687095, -0.07238489,  0.01758678,\n",
              "         0.12486916,  0.22596408, -0.48841523, -0.35062244, -0.26184784,\n",
              "        -0.21900928,  0.10633978,  0.26527761,  0.24286798, -0.06357085]])"
            ]
          },
          "metadata": {
            "tags": []
          },
          "execution_count": 83
        }
      ]
    },
    {
      "cell_type": "code",
      "metadata": {
        "colab": {
          "base_uri": "https://localhost:8080/"
        },
        "id": "xeOEesec7W3F",
        "outputId": "5a0e2828-96cf-4eca-b769-9a6ae7f16965"
      },
      "source": [
        "from librosa.core import istft\n",
        "\n",
        "\n",
        "test_dir = pathlib.Path('dataset-hard')\n",
        "testnames = list(test_dir.glob('**/*.wav'))\n",
        "testnames = [str(f) for f in testnames]\n",
        "testnames = sorted(testnames, key=lambda x: int(x[-8:-4]))\n",
        "\n",
        "for i in testnames[4694:]:\n",
        "    signal, sr = librosa.load('/content/' + i)\n",
        "\n",
        "    C = librosa.feature.mfcc(y=signal, sr=sr)\n",
        "    coefs = np.average(C, axis = 1)\n",
        "    # fft = list(abs(scipy.fft(signal)))\n",
        "    # fft.sort()\n",
        "    scaled_coefs = scaler.transform(coefs.reshape(1, -1))\n",
        "    scaled_coefs = scaled_coefs - noise  \n",
        "    print(i[-8: -4], GOD.predict(scaled_coefs)[0])"
      ],
      "execution_count": null,
      "outputs": [
        {
          "output_type": "stream",
          "text": [
            "4694 e\n",
            "4695 g\n",
            "4696 c\n",
            "4697 c\n",
            "4698 e\n",
            "4699 dm\n",
            "4700 c\n",
            "4701 e\n",
            "4702 e\n",
            "4703 e\n",
            "4704 e\n",
            "4705 am\n",
            "4706 dm\n",
            "4707 c\n",
            "4708 c\n",
            "4709 g\n",
            "4710 dm\n",
            "4711 e\n",
            "4712 am\n",
            "4713 am\n",
            "4714 am\n",
            "4715 g\n",
            "4716 c\n",
            "4717 dm\n",
            "4718 dm\n",
            "4719 dm\n",
            "4720 c\n",
            "4721 g\n",
            "4722 c\n",
            "4723 c\n",
            "4724 e\n",
            "4725 dm\n",
            "4726 dm\n",
            "4727 c\n",
            "4728 e\n",
            "4729 am\n",
            "4730 g\n",
            "4731 am\n",
            "4732 am\n",
            "4733 g\n",
            "4734 am\n",
            "4735 e\n",
            "4736 e\n",
            "4737 am\n",
            "4738 e\n",
            "4739 c\n",
            "4740 e\n",
            "4741 dm\n",
            "4742 c\n",
            "4743 e\n",
            "4744 g\n",
            "4745 am\n",
            "4746 am\n",
            "4747 dm\n",
            "4748 e\n",
            "4749 c\n",
            "4750 am\n",
            "4751 g\n",
            "4752 am\n",
            "4753 c\n",
            "4754 c\n",
            "4755 dm\n",
            "4756 g\n",
            "4757 g\n",
            "4758 g\n",
            "4759 e\n",
            "4760 g\n",
            "4761 dm\n",
            "4762 dm\n",
            "4763 g\n",
            "4764 e\n",
            "4765 dm\n",
            "4766 c\n",
            "4767 c\n",
            "4768 g\n",
            "4769 g\n",
            "4770 c\n",
            "4771 dm\n",
            "4772 g\n",
            "4773 c\n",
            "4774 c\n",
            "4775 g\n",
            "4776 am\n",
            "4777 am\n",
            "4778 g\n",
            "4779 e\n",
            "4780 e\n",
            "4781 g\n",
            "4782 am\n",
            "4783 g\n",
            "4784 g\n",
            "4785 g\n",
            "4786 dm\n",
            "4787 g\n",
            "4788 g\n",
            "4789 am\n",
            "4790 c\n",
            "4791 dm\n",
            "4792 c\n",
            "4793 g\n",
            "4794 dm\n",
            "4795 g\n",
            "4796 e\n",
            "4797 c\n",
            "4798 c\n",
            "4799 c\n",
            "4800 g\n",
            "4801 g\n",
            "4802 dm\n",
            "4803 c\n",
            "4804 c\n",
            "4805 g\n",
            "4806 e\n",
            "4807 c\n",
            "4808 c\n",
            "4809 g\n",
            "4810 e\n",
            "4811 g\n",
            "4812 dm\n",
            "4813 g\n",
            "4814 c\n",
            "4815 dm\n",
            "4816 c\n",
            "4817 c\n",
            "4818 dm\n",
            "4819 g\n",
            "4820 c\n",
            "4821 dm\n",
            "4822 c\n",
            "4823 dm\n",
            "4824 dm\n",
            "4825 g\n",
            "4826 am\n",
            "4827 dm\n",
            "4828 g\n",
            "4829 am\n",
            "4830 c\n",
            "4831 am\n",
            "4832 c\n",
            "4833 c\n",
            "4834 dm\n",
            "4835 g\n",
            "4836 g\n",
            "4837 g\n",
            "4838 am\n",
            "4839 c\n",
            "4840 dm\n",
            "4841 dm\n",
            "4842 c\n",
            "4843 dm\n",
            "4844 dm\n",
            "4845 g\n",
            "4846 g\n",
            "4847 c\n",
            "4848 dm\n",
            "4849 e\n",
            "4850 c\n",
            "4851 c\n",
            "4852 dm\n",
            "4853 dm\n",
            "4854 am\n",
            "4855 c\n",
            "4856 dm\n",
            "4857 am\n",
            "4858 e\n",
            "4859 c\n",
            "4860 am\n",
            "4861 e\n",
            "4862 am\n",
            "4863 dm\n",
            "4864 am\n",
            "4865 dm\n",
            "4866 g\n",
            "4867 e\n",
            "4868 am\n",
            "4869 e\n",
            "4870 am\n",
            "4871 c\n",
            "4872 dm\n",
            "4873 c\n",
            "4874 c\n",
            "4875 c\n",
            "4876 e\n",
            "4877 dm\n",
            "4878 dm\n",
            "4879 e\n",
            "4880 c\n",
            "4881 g\n",
            "4882 e\n",
            "4883 dm\n",
            "4884 e\n",
            "4885 g\n",
            "4886 am\n",
            "4887 dm\n",
            "4888 e\n",
            "4889 am\n",
            "4890 dm\n",
            "4891 g\n",
            "4892 c\n",
            "4893 c\n",
            "4894 g\n",
            "4895 c\n",
            "4896 am\n",
            "4897 dm\n",
            "4898 g\n",
            "4899 c\n",
            "4900 c\n",
            "4901 c\n",
            "4902 g\n",
            "4903 am\n",
            "4904 e\n",
            "4905 g\n",
            "4906 g\n",
            "4907 g\n",
            "4908 e\n",
            "4909 c\n",
            "4910 am\n",
            "4911 e\n",
            "4912 am\n",
            "4913 dm\n",
            "4914 am\n",
            "4915 dm\n",
            "4916 g\n",
            "4917 e\n",
            "4918 dm\n",
            "4919 e\n",
            "4920 c\n",
            "4921 g\n",
            "4922 c\n",
            "4923 e\n",
            "4924 g\n",
            "4925 c\n",
            "4926 g\n",
            "4927 dm\n",
            "4928 c\n",
            "4929 g\n",
            "4930 am\n",
            "4931 g\n",
            "4932 dm\n",
            "4933 c\n",
            "4934 c\n",
            "4935 g\n",
            "4936 am\n",
            "4937 e\n",
            "4938 e\n",
            "4939 c\n",
            "4940 dm\n",
            "4941 g\n",
            "4942 g\n",
            "4943 dm\n",
            "4944 g\n",
            "4945 g\n",
            "4946 am\n",
            "4947 dm\n",
            "4948 g\n",
            "4949 c\n",
            "4950 g\n",
            "4951 g\n",
            "4952 dm\n",
            "4953 dm\n",
            "4954 g\n",
            "4955 am\n",
            "4956 dm\n",
            "4957 e\n",
            "4958 c\n",
            "4959 g\n",
            "4960 e\n",
            "4961 c\n",
            "4962 e\n",
            "4963 am\n",
            "4964 g\n",
            "4965 c\n",
            "4966 c\n",
            "4967 am\n",
            "4968 e\n",
            "4969 e\n",
            "4970 am\n",
            "4971 c\n",
            "4972 am\n",
            "4973 g\n",
            "4974 dm\n",
            "4975 am\n",
            "4976 g\n",
            "4977 g\n",
            "4978 e\n",
            "4979 dm\n",
            "4980 c\n",
            "4981 e\n",
            "4982 c\n",
            "4983 am\n",
            "4984 am\n",
            "4985 e\n",
            "4986 am\n",
            "4987 dm\n",
            "4988 dm\n",
            "4989 dm\n",
            "4990 am\n",
            "4991 c\n",
            "4992 g\n",
            "4993 c\n",
            "4994 g\n",
            "4995 g\n",
            "4996 g\n",
            "4997 e\n",
            "4998 c\n",
            "4999 am\n"
          ],
          "name": "stdout"
        }
      ]
    },
    {
      "cell_type": "code",
      "metadata": {
        "id": "NTZL8y5b7W9i"
      },
      "source": [
        ""
      ],
      "execution_count": null,
      "outputs": []
    },
    {
      "cell_type": "code",
      "metadata": {
        "id": "1l_8tILQ7XAa"
      },
      "source": [
        ""
      ],
      "execution_count": null,
      "outputs": []
    },
    {
      "cell_type": "code",
      "metadata": {
        "id": "oTndt9zJ7XDZ"
      },
      "source": [
        ""
      ],
      "execution_count": null,
      "outputs": []
    },
    {
      "cell_type": "code",
      "metadata": {
        "id": "3dP2_KVqHVmH"
      },
      "source": [
        "/content/dataset-easy/0000.wav"
      ],
      "execution_count": null,
      "outputs": []
    },
    {
      "cell_type": "code",
      "metadata": {
        "id": "ZZWdUgeqG6qU"
      },
      "source": [
        "for i in testnames:\n",
        "    s_rate, signal = wavfile.read('/content/' + i)\n",
        "    fft = list(abs(scipy.fft(signal)))\n",
        "    fft.sort()\n",
        "    df.loc[len(df)] = fft[-10:]\n"
      ],
      "execution_count": null,
      "outputs": []
    },
    {
      "cell_type": "code",
      "metadata": {
        "id": "6i-GHW2eG7jr"
      },
      "source": [
        ""
      ],
      "execution_count": null,
      "outputs": []
    }
  ]
}